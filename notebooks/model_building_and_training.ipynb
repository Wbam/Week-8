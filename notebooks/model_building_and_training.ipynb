{
 "cells": [
  {
   "cell_type": "code",
<<<<<<< HEAD
   "execution_count": 1,
   "metadata": {},
   "outputs": [
    {
     "name": "stderr",
     "output_type": "stream",
     "text": [
      "2024/10/26 20:02:12 INFO mlflow.tracking.fluent: Experiment with name 'Fraud Detection Project' does not exist. Creating a new experiment.\n"
     ]
    },
    {
     "name": "stdout",
     "output_type": "stream",
     "text": [
      "Training on Credit Card Data...\n"
     ]
    },
    {
     "name": "stderr",
     "output_type": "stream",
     "text": [
      "2024/10/26 20:02:52 WARNING mlflow.models.model: Model logged without a signature and input example. Please set `input_example` parameter when logging the model to auto infer the model signature.\n"
     ]
    },
    {
     "name": "stdout",
     "output_type": "stream",
     "text": [
      "Model: Logistic Regression\n",
      "Accuracy: 0.9993\n",
      "Precision: 0.8673\n",
      "Recall: 0.6250\n",
      "F1 Score: 0.7265\n",
      "Saved model to: C:/Users/bam/Desktop/Week-8/notebooks/trained_model_Logistic Regression.joblib\n",
      "------------------------------\n"
     ]
    },
    {
     "name": "stderr",
     "output_type": "stream",
     "text": [
      "2024/10/26 20:03:29 WARNING mlflow.models.model: Model logged without a signature and input example. Please set `input_example` parameter when logging the model to auto infer the model signature.\n"
     ]
    },
    {
     "name": "stdout",
     "output_type": "stream",
     "text": [
      "Model: Decision Tree\n",
      "Accuracy: 0.9991\n",
      "Precision: 0.6846\n",
      "Recall: 0.7500\n",
      "F1 Score: 0.7158\n",
      "Saved model to: C:/Users/bam/Desktop/Week-8/notebooks/trained_model_Decision Tree.joblib\n",
      "------------------------------\n"
     ]
    },
    {
     "name": "stderr",
     "output_type": "stream",
     "text": [
      "2024/10/26 20:08:26 WARNING mlflow.models.model: Model logged without a signature and input example. Please set `input_example` parameter when logging the model to auto infer the model signature.\n"
     ]
    },
    {
     "name": "stdout",
     "output_type": "stream",
     "text": [
      "Model: Random Forest\n",
      "Accuracy: 0.9996\n",
      "Precision: 0.9268\n",
      "Recall: 0.8382\n",
      "F1 Score: 0.8803\n",
      "Saved model to: C:/Users/bam/Desktop/Week-8/notebooks/trained_model_Random Forest.joblib\n",
      "------------------------------\n"
     ]
    },
    {
     "name": "stderr",
     "output_type": "stream",
     "text": [
      "2024/10/26 20:15:56 WARNING mlflow.models.model: Model logged without a signature and input example. Please set `input_example` parameter when logging the model to auto infer the model signature.\n"
     ]
    },
    {
     "name": "stdout",
     "output_type": "stream",
     "text": [
      "Model: Gradient Boosting\n",
      "Accuracy: 0.9986\n",
      "Precision: 0.8947\n",
      "Recall: 0.1250\n",
      "F1 Score: 0.2194\n",
      "Saved model to: C:/Users/bam/Desktop/Week-8/notebooks/trained_model_Gradient Boosting.joblib\n",
      "------------------------------\n"
     ]
    },
    {
     "name": "stderr",
     "output_type": "stream",
     "text": [
      "2024/10/26 20:17:22 WARNING mlflow.models.model: Model logged without a signature and input example. Please set `input_example` parameter when logging the model to auto infer the model signature.\n"
     ]
    },
    {
     "name": "stdout",
     "output_type": "stream",
     "text": [
      "Model: Multi-Layer Perceptron\n",
      "Accuracy: 0.9995\n",
      "Precision: 0.8672\n",
      "Recall: 0.8162\n",
      "F1 Score: 0.8409\n",
      "Saved model to: C:/Users/bam/Desktop/Week-8/notebooks/trained_model_Multi-Layer Perceptron.joblib\n",
      "------------------------------\n",
      "Training on Fraud Data...\n"
     ]
    },
    {
     "name": "stderr",
     "output_type": "stream",
     "text": [
      "c:\\Users\\bam\\AppData\\Local\\Programs\\Python\\Python310\\lib\\site-packages\\sklearn\\metrics\\_classification.py:1531: UndefinedMetricWarning: Precision is ill-defined and being set to 0.0 due to no predicted samples. Use `zero_division` parameter to control this behavior.\n",
      "  _warn_prf(average, modifier, f\"{metric.capitalize()} is\", len(result))\n",
      "2024/10/26 20:17:29 WARNING mlflow.models.model: Model logged without a signature and input example. Please set `input_example` parameter when logging the model to auto infer the model signature.\n"
     ]
    },
    {
     "name": "stdout",
     "output_type": "stream",
     "text": [
      "Model: Logistic Regression\n",
      "Accuracy: 0.9070\n",
      "Precision: 0.0000\n",
      "Recall: 0.0000\n",
      "F1 Score: 0.0000\n",
      "Saved model to: C:/Users/bam/Desktop/Week-8/notebooks/trained_model_Logistic Regression.joblib\n",
      "------------------------------\n"
     ]
    },
    {
     "name": "stderr",
     "output_type": "stream",
     "text": [
      "2024/10/26 20:17:37 WARNING mlflow.models.model: Model logged without a signature and input example. Please set `input_example` parameter when logging the model to auto infer the model signature.\n"
     ]
    },
    {
     "name": "stdout",
     "output_type": "stream",
     "text": [
      "Model: Decision Tree\n",
      "Accuracy: 0.8871\n",
      "Precision: 0.4085\n",
      "Recall: 0.4766\n",
      "F1 Score: 0.4400\n",
      "Saved model to: C:/Users/bam/Desktop/Week-8/notebooks/trained_model_Decision Tree.joblib\n",
      "------------------------------\n"
     ]
    },
    {
     "name": "stderr",
     "output_type": "stream",
     "text": [
      "2024/10/26 20:18:28 WARNING mlflow.models.model: Model logged without a signature and input example. Please set `input_example` parameter when logging the model to auto infer the model signature.\n"
     ]
    },
    {
     "name": "stdout",
     "output_type": "stream",
     "text": [
      "Model: Random Forest\n",
      "Accuracy: 0.9337\n",
      "Precision: 0.8798\n",
      "Recall: 0.3332\n",
      "F1 Score: 0.4833\n",
      "Saved model to: C:/Users/bam/Desktop/Week-8/notebooks/trained_model_Random Forest.joblib\n",
      "------------------------------\n"
     ]
    },
    {
     "name": "stderr",
     "output_type": "stream",
     "text": [
      "2024/10/26 20:19:11 WARNING mlflow.models.model: Model logged without a signature and input example. Please set `input_example` parameter when logging the model to auto infer the model signature.\n"
     ]
    },
    {
     "name": "stdout",
     "output_type": "stream",
     "text": [
      "Model: Gradient Boosting\n",
      "Accuracy: 0.9070\n",
      "Precision: 0.6000\n",
      "Recall: 0.0014\n",
      "F1 Score: 0.0028\n",
      "Saved model to: C:/Users/bam/Desktop/Week-8/notebooks/trained_model_Gradient Boosting.joblib\n",
      "------------------------------\n"
     ]
    },
    {
     "name": "stderr",
     "output_type": "stream",
     "text": [
      "c:\\Users\\bam\\AppData\\Local\\Programs\\Python\\Python310\\lib\\site-packages\\sklearn\\metrics\\_classification.py:1531: UndefinedMetricWarning: Precision is ill-defined and being set to 0.0 due to no predicted samples. Use `zero_division` parameter to control this behavior.\n",
      "  _warn_prf(average, modifier, f\"{metric.capitalize()} is\", len(result))\n",
      "2024/10/26 20:19:41 WARNING mlflow.models.model: Model logged without a signature and input example. Please set `input_example` parameter when logging the model to auto infer the model signature.\n"
     ]
    },
    {
     "name": "stdout",
     "output_type": "stream",
     "text": [
      "Model: Multi-Layer Perceptron\n",
      "Accuracy: 0.9070\n",
      "Precision: 0.0000\n",
      "Recall: 0.0000\n",
      "F1 Score: 0.0000\n",
      "Saved model to: C:/Users/bam/Desktop/Week-8/notebooks/trained_model_Multi-Layer Perceptron.joblib\n",
      "------------------------------\n"
     ]
    }
   ],
=======
   "execution_count": 14,
   "metadata": {},
   "outputs": [],
>>>>>>> 3ec12e96df809f3fc2d79d0e16d524098e1bb835
   "source": [
    "# Import necessary libraries\n",
    "import pandas as pd\n",
    "from sklearn.model_selection import train_test_split\n",
    "from sklearn.preprocessing import StandardScaler\n",
    "from sklearn.metrics import accuracy_score, precision_score, recall_score, f1_score\n",
    "from sklearn.linear_model import LogisticRegression\n",
    "from sklearn.tree import DecisionTreeClassifier\n",
    "from sklearn.ensemble import RandomForestClassifier, GradientBoostingClassifier\n",
    "from sklearn.neural_network import MLPClassifier\n",
    "import mlflow\n",
    "import mlflow.sklearn\n",
<<<<<<< HEAD
    "import joblib  # Import joblib for saving models\n",
    "\n",
    "# Load the datasets\n",
    "fraud_data = pd.read_csv('C:/Users/bam/Documents/Data/Fraud_Data.csv')\n",
    "creditcard_data = pd.read_csv('C:/Users/bam/Documents/Data/creditcard.csv')\n",
=======
    "\n",
    "# Load the datasets\n",
    "fraud_data = pd.read_csv('C:/Users/bam/Documents/Data/Fraud_Data.csv')\n",
    "creditcard_data = pd.read_csv('C:/Users/bam/Documents/Data/creditcard.csv')\n"
   ]
  },
  {
   "cell_type": "code",
   "execution_count": 15,
   "metadata": {},
   "outputs": [],
   "source": [
>>>>>>> 3ec12e96df809f3fc2d79d0e16d524098e1bb835
    "\n",
    "# Specify target and features for each dataset\n",
    "X_fraud = fraud_data.drop(columns=['class'])\n",
    "y_fraud = fraud_data['class']\n",
    "X_creditcard = creditcard_data.drop(columns=['Class'])\n",
    "y_creditcard = creditcard_data['Class']\n",
    "\n",
    "# Convert date columns to datetime and extract year, month, day, hour \n",
    "for df in [X_fraud, X_creditcard]:\n",
    "    for col in df.columns:\n",
    "        if pd.api.types.is_string_dtype(df[col]) and 'date' in col.lower():\n",
    "            df[col] = pd.to_datetime(df[col], errors='coerce')\n",
    "            df['year'] = df[col].dt.year\n",
    "            df['month'] = df[col].dt.month\n",
    "            df['day'] = df[col].dt.day\n",
    "            df['hour'] = df[col].dt.hour\n",
    "            df.drop(columns=[col], inplace=True)\n",
    "\n",
    "# Train-Test Split\n",
    "X_fraud_train, X_fraud_test, y_fraud_train, y_fraud_test = train_test_split(X_fraud, y_fraud, test_size=0.3, random_state=42)\n",
    "X_cc_train, X_cc_test, y_cc_train, y_cc_test = train_test_split(X_creditcard, y_creditcard, test_size=0.3, random_state=42)\n",
    "\n",
    "# Normalize/Scale features\n",
    "scaler = StandardScaler()\n",
    "X_fraud_train = scaler.fit_transform(X_fraud_train.select_dtypes(include='number'))\n",
    "X_fraud_test = scaler.transform(X_fraud_test.select_dtypes(include='number'))\n",
    "X_cc_train = scaler.fit_transform(X_cc_train.select_dtypes(include='number'))\n",
<<<<<<< HEAD
    "X_cc_test = scaler.transform(X_cc_test.select_dtypes(include='number'))\n",
    "\n",
=======
    "X_cc_test = scaler.transform(X_cc_test.select_dtypes(include='number'))\n"
   ]
  },
  {
   "cell_type": "code",
   "execution_count": 16,
   "metadata": {},
   "outputs": [],
   "source": [
>>>>>>> 3ec12e96df809f3fc2d79d0e16d524098e1bb835
    "# Initialize Models\n",
    "models = {\n",
    "    \"Logistic Regression\": LogisticRegression(),\n",
    "    \"Decision Tree\": DecisionTreeClassifier(),\n",
    "    \"Random Forest\": RandomForestClassifier(),\n",
    "    \"Gradient Boosting\": GradientBoostingClassifier(),\n",
    "    \"Multi-Layer Perceptron\": MLPClassifier(max_iter=500)\n",
<<<<<<< HEAD
    "}\n",
    "\n",
    "# MLflow Tracking\n",
    "mlflow.set_experiment(\"Fraud Detection Project\")\n",
    "\n",
    "# Training and Evaluation Function\n",
    "def train_and_evaluate(model, X_train, X_test, y_train, y_test, model_name):\n",
=======
    "}\n"
   ]
  },
  {
   "cell_type": "code",
   "execution_count": 17,
   "metadata": {},
   "outputs": [
    {
     "data": {
      "text/plain": [
       "<Experiment: artifact_location='file:///c:/Users/bam/Desktop/Week-8/notebooks/mlruns/924820396786259889', creation_time=1729943873019, experiment_id='924820396786259889', last_update_time=1729943873019, lifecycle_stage='active', name='Fraud Detection Project', tags={}>"
      ]
     },
     "execution_count": 17,
     "metadata": {},
     "output_type": "execute_result"
    }
   ],
   "source": [
    "# MLflow Tracking\n",
    "mlflow.set_experiment(\"Fraud Detection Project\")\n"
   ]
  },
  {
   "cell_type": "code",
   "execution_count": 20,
   "metadata": {},
   "outputs": [],
   "source": [
    "# Training and Evaluation Function\n",
    "def train_and_evaluate(model, X_train, X_test, y_train, y_test):\n",
>>>>>>> 3ec12e96df809f3fc2d79d0e16d524098e1bb835
    "    with mlflow.start_run():\n",
    "        # Train the model\n",
    "        model.fit(X_train, y_train)\n",
    "        \n",
    "        # Make predictions\n",
    "        y_pred = model.predict(X_test)\n",
    "        \n",
    "        # Calculate evaluation metrics\n",
    "        accuracy = accuracy_score(y_test, y_pred)\n",
    "        precision = precision_score(y_test, y_pred)\n",
    "        recall = recall_score(y_test, y_pred)\n",
    "        f1 = f1_score(y_test, y_pred)\n",
    "        \n",
    "        # Log model and metrics to MLflow\n",
<<<<<<< HEAD
    "        mlflow.log_param(\"model_name\", model_name)\n",
=======
    "        mlflow.log_param(\"model_name\", type(model).__name__)\n",
>>>>>>> 3ec12e96df809f3fc2d79d0e16d524098e1bb835
    "        mlflow.log_metric(\"accuracy\", accuracy)\n",
    "        mlflow.log_metric(\"precision\", precision)\n",
    "        mlflow.log_metric(\"recall\", recall)\n",
    "        mlflow.log_metric(\"f1_score\", f1)\n",
<<<<<<< HEAD
    "        mlflow.sklearn.log_model(model, model_name)\n",
    "        \n",
    "        # Save the trained model to a joblib file\n",
    "        joblib_file_path = f\"C:/Users/bam/Desktop/Week-8/notebooks/trained_model_{model_name}.joblib\"\n",
    "        joblib.dump(model, joblib_file_path)\n",
    "        \n",
    "        print(f\"Model: {model_name}\")\n",
=======
    "        mlflow.sklearn.log_model(model, type(model).__name__)\n",
    "        \n",
    "        print(f\"Model: {type(model).__name__}\")\n",
>>>>>>> 3ec12e96df809f3fc2d79d0e16d524098e1bb835
    "        print(f\"Accuracy: {accuracy:.4f}\")\n",
    "        print(f\"Precision: {precision:.4f}\")\n",
    "        print(f\"Recall: {recall:.4f}\")\n",
    "        print(f\"F1 Score: {f1:.4f}\")\n",
<<<<<<< HEAD
    "        print(f\"Saved model to: {joblib_file_path}\")\n",
    "        print(\"-\" * 30)\n",
    "\n",
    "# Train and evaluate models on Credit Card Data\n",
    "print(\"Training on Credit Card Data...\")\n",
    "for model_name, model in models.items():\n",
    "    train_and_evaluate(model, X_cc_train, X_cc_test, y_cc_train, y_cc_test, model_name)\n",
    "\n",
    "# Train and evaluate models on Fraud Data\n",
    "print(\"Training on Fraud Data...\")\n",
    "for model_name, model in models.items():\n",
    "    train_and_evaluate(model, X_fraud_train, X_fraud_test, y_fraud_train, y_fraud_test, model_name)\n"
=======
    "        print(\"-\" * 30)\n"
   ]
  },
  {
   "cell_type": "code",
   "execution_count": 21,
   "metadata": {},
   "outputs": [
    {
     "name": "stdout",
     "output_type": "stream",
     "text": [
      "Training on Fraud Data...\n"
     ]
    },
    {
     "name": "stderr",
     "output_type": "stream",
     "text": [
      "c:\\Users\\bam\\AppData\\Local\\Programs\\Python\\Python310\\lib\\site-packages\\sklearn\\metrics\\_classification.py:1531: UndefinedMetricWarning: Precision is ill-defined and being set to 0.0 due to no predicted samples. Use `zero_division` parameter to control this behavior.\n",
      "  _warn_prf(average, modifier, f\"{metric.capitalize()} is\", len(result))\n",
      "2024/10/26 15:16:05 WARNING mlflow.models.model: Model logged without a signature and input example. Please set `input_example` parameter when logging the model to auto infer the model signature.\n"
     ]
    },
    {
     "name": "stdout",
     "output_type": "stream",
     "text": [
      "Model: LogisticRegression\n",
      "Accuracy: 0.9070\n",
      "Precision: 0.0000\n",
      "Recall: 0.0000\n",
      "F1 Score: 0.0000\n",
      "------------------------------\n"
     ]
    },
    {
     "name": "stderr",
     "output_type": "stream",
     "text": [
      "2024/10/26 15:16:13 WARNING mlflow.models.model: Model logged without a signature and input example. Please set `input_example` parameter when logging the model to auto infer the model signature.\n"
     ]
    },
    {
     "name": "stdout",
     "output_type": "stream",
     "text": [
      "Model: DecisionTreeClassifier\n",
      "Accuracy: 0.8864\n",
      "Precision: 0.4056\n",
      "Recall: 0.4740\n",
      "F1 Score: 0.4371\n",
      "------------------------------\n"
     ]
    },
    {
     "name": "stderr",
     "output_type": "stream",
     "text": [
      "2024/10/26 15:17:37 WARNING mlflow.utils.environment: Encountered an unexpected error while inferring pip requirements (model URI: C:\\Users\\bam\\AppData\\Local\\Temp\\tmpb_idhqf2\\model\\model.pkl, flavor: sklearn). Fall back to return ['scikit-learn==1.5.2', 'cloudpickle==3.1.0']. Set logging level to DEBUG to see the full traceback. \n",
      "2024/10/26 15:17:37 WARNING mlflow.models.model: Model logged without a signature and input example. Please set `input_example` parameter when logging the model to auto infer the model signature.\n"
     ]
    },
    {
     "name": "stdout",
     "output_type": "stream",
     "text": [
      "Model: RandomForestClassifier\n",
      "Accuracy: 0.9336\n",
      "Precision: 0.8721\n",
      "Recall: 0.3348\n",
      "F1 Score: 0.4839\n",
      "------------------------------\n"
     ]
    },
    {
     "name": "stderr",
     "output_type": "stream",
     "text": [
      "2024/10/26 15:18:14 WARNING mlflow.models.model: Model logged without a signature and input example. Please set `input_example` parameter when logging the model to auto infer the model signature.\n"
     ]
    },
    {
     "name": "stdout",
     "output_type": "stream",
     "text": [
      "Model: GradientBoostingClassifier\n",
      "Accuracy: 0.9070\n",
      "Precision: 0.6000\n",
      "Recall: 0.0014\n",
      "F1 Score: 0.0028\n",
      "------------------------------\n"
     ]
    },
    {
     "name": "stderr",
     "output_type": "stream",
     "text": [
      "c:\\Users\\bam\\AppData\\Local\\Programs\\Python\\Python310\\lib\\site-packages\\sklearn\\metrics\\_classification.py:1531: UndefinedMetricWarning: Precision is ill-defined and being set to 0.0 due to no predicted samples. Use `zero_division` parameter to control this behavior.\n",
      "  _warn_prf(average, modifier, f\"{metric.capitalize()} is\", len(result))\n",
      "2024/10/26 15:18:46 WARNING mlflow.models.model: Model logged without a signature and input example. Please set `input_example` parameter when logging the model to auto infer the model signature.\n"
     ]
    },
    {
     "name": "stdout",
     "output_type": "stream",
     "text": [
      "Model: MLPClassifier\n",
      "Accuracy: 0.9070\n",
      "Precision: 0.0000\n",
      "Recall: 0.0000\n",
      "F1 Score: 0.0000\n",
      "------------------------------\n"
     ]
    }
   ],
   "source": [
    "# Train and evaluate models on Fraud Data\n",
    "print(\"Training on Fraud Data...\")\n",
    "for model_name, model in models.items():\n",
    "    train_and_evaluate(model, X_fraud_train, X_fraud_test, y_fraud_train, y_fraud_test)\n",
    "\n"
   ]
  },
  {
   "cell_type": "code",
   "execution_count": 22,
   "metadata": {},
   "outputs": [
    {
     "name": "stdout",
     "output_type": "stream",
     "text": [
      "Training on Credit Card Data...\n"
     ]
    },
    {
     "name": "stderr",
     "output_type": "stream",
     "text": [
      "2024/10/26 15:21:31 WARNING mlflow.models.model: Model logged without a signature and input example. Please set `input_example` parameter when logging the model to auto infer the model signature.\n"
     ]
    },
    {
     "name": "stdout",
     "output_type": "stream",
     "text": [
      "Model: LogisticRegression\n",
      "Accuracy: 0.9993\n",
      "Precision: 0.8673\n",
      "Recall: 0.6250\n",
      "F1 Score: 0.7265\n",
      "------------------------------\n"
     ]
    },
    {
     "name": "stderr",
     "output_type": "stream",
     "text": [
      "2024/10/26 15:22:22 WARNING mlflow.models.model: Model logged without a signature and input example. Please set `input_example` parameter when logging the model to auto infer the model signature.\n"
     ]
    },
    {
     "name": "stdout",
     "output_type": "stream",
     "text": [
      "Model: DecisionTreeClassifier\n",
      "Accuracy: 0.9993\n",
      "Precision: 0.7386\n",
      "Recall: 0.8309\n",
      "F1 Score: 0.7820\n",
      "------------------------------\n"
     ]
    },
    {
     "name": "stderr",
     "output_type": "stream",
     "text": [
      "2024/10/26 15:29:17 WARNING mlflow.models.model: Model logged without a signature and input example. Please set `input_example` parameter when logging the model to auto infer the model signature.\n"
     ]
    },
    {
     "name": "stdout",
     "output_type": "stream",
     "text": [
      "Model: RandomForestClassifier\n",
      "Accuracy: 0.9995\n",
      "Precision: 0.9217\n",
      "Recall: 0.7794\n",
      "F1 Score: 0.8446\n",
      "------------------------------\n"
     ]
    },
    {
     "name": "stderr",
     "output_type": "stream",
     "text": [
      "2024/10/26 15:37:26 WARNING mlflow.models.model: Model logged without a signature and input example. Please set `input_example` parameter when logging the model to auto infer the model signature.\n"
     ]
    },
    {
     "name": "stdout",
     "output_type": "stream",
     "text": [
      "Model: GradientBoostingClassifier\n",
      "Accuracy: 0.9986\n",
      "Precision: 0.8947\n",
      "Recall: 0.1250\n",
      "F1 Score: 0.2194\n",
      "------------------------------\n"
     ]
    },
    {
     "name": "stderr",
     "output_type": "stream",
     "text": [
      "2024/10/26 15:38:43 WARNING mlflow.models.model: Model logged without a signature and input example. Please set `input_example` parameter when logging the model to auto infer the model signature.\n"
     ]
    },
    {
     "name": "stdout",
     "output_type": "stream",
     "text": [
      "Model: MLPClassifier\n",
      "Accuracy: 0.9995\n",
      "Precision: 0.8824\n",
      "Recall: 0.7721\n",
      "F1 Score: 0.8235\n",
      "------------------------------\n"
     ]
    }
   ],
   "source": [
    "# Train and evaluate models on Credit Card Data\n",
    "print(\"Training on Credit Card Data...\")\n",
    "for model_name, model in models.items():\n",
    "    train_and_evaluate(model, X_cc_train, X_cc_test, y_cc_train, y_cc_test)\n"
>>>>>>> 3ec12e96df809f3fc2d79d0e16d524098e1bb835
   ]
  }
 ],
 "metadata": {
  "kernelspec": {
   "display_name": "Python 3",
   "language": "python",
   "name": "python3"
  },
  "language_info": {
   "codemirror_mode": {
    "name": "ipython",
    "version": 3
   },
   "file_extension": ".py",
   "mimetype": "text/x-python",
   "name": "python",
   "nbconvert_exporter": "python",
   "pygments_lexer": "ipython3",
   "version": "3.10.11"
  }
 },
 "nbformat": 4,
 "nbformat_minor": 2
}
